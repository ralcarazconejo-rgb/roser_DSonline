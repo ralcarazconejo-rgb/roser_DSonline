{
 "cells": [
  {
   "cell_type": "code",
   "execution_count": 1,
   "id": "8702d55a-72f8-4ed8-a4d2-42d396438135",
   "metadata": {},
   "outputs": [
    {
     "name": "stdout",
     "output_type": "stream",
     "text": [
      "Hola mundo\n"
     ]
    }
   ],
   "source": [
    "print(\"Hola mundo\")"
   ]
  },
  {
   "cell_type": "markdown",
   "id": "3a8daa18-6ba0-4745-9f6e-5f8be9d9c78b",
   "metadata": {},
   "source": [
    "HOLA MUNDO"
   ]
  },
  {
   "cell_type": "code",
   "execution_count": null,
   "id": "7edfb6a1-d345-4274-a8c9-0e0e8f93294a",
   "metadata": {},
   "outputs": [],
   "source": []
  }
 ],
 "metadata": {
  "kernelspec": {
   "display_name": "Python 3 (ipykernel)",
   "language": "python",
   "name": "python3"
  },
  "language_info": {
   "codemirror_mode": {
    "name": "ipython",
    "version": 3
   },
   "file_extension": ".py",
   "mimetype": "text/x-python",
   "name": "python",
   "nbconvert_exporter": "python",
   "pygments_lexer": "ipython3",
   "version": "3.13.7"
  }
 },
 "nbformat": 4,
 "nbformat_minor": 5
}
